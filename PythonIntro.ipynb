{
 "cells": [
  {
   "cell_type": "code",
   "execution_count": 15,
   "metadata": {},
   "outputs": [],
   "source": [
    "import math\n",
    "import numpy as np\n",
    "\n",
    "\n",
    "va = [2, 2]\n",
    "vb = [3, 4]\n",
    "\n",
    "\n",
    "A = np.array([\n",
    "    [1, 2, 3],\n",
    "    [3, 4, 9],\n",
    "    [5, 7, 3]\n",
    "])\n",
    "\n",
    "ta = np.random.randint(100, size=1000000)\n",
    "tb = np.random.randint(100, size=1000000)"
   ]
  },
  {
   "cell_type": "code",
   "execution_count": 2,
   "metadata": {},
   "outputs": [
    {
     "name": "stdout",
     "output_type": "stream",
     "text": [
      "a 2.8284271247461903\n",
      "b 5.0\n"
     ]
    }
   ],
   "source": [
    "\n",
    "\n",
    "def length(v):\n",
    "    sum = 0\n",
    "    for i in v:\n",
    "        sum += i**2\n",
    "    return math.sqrt(sum)\n",
    "\n",
    "\n",
    "\n",
    "print('a', length(va))\n",
    "print('b', length(vb))\n",
    "assert length(va) == 8**0.5\n",
    "assert length(vb) == 5"
   ]
  },
  {
   "cell_type": "code",
   "execution_count": 3,
   "metadata": {},
   "outputs": [
    {
     "name": "stdout",
     "output_type": "stream",
     "text": [
      "a 2.8284271247461903\n",
      "b 5.0\n"
     ]
    }
   ],
   "source": [
    "def length2(v):\n",
    "    return math.sqrt(sum([i**2 for i in v]))\n",
    "\n",
    "print('a', length2(va))\n",
    "print('b', length2(vb))\n",
    "assert length2(va) == 8**0.5\n",
    "assert length2(vb) == 5"
   ]
  },
  {
   "cell_type": "code",
   "execution_count": 4,
   "metadata": {},
   "outputs": [],
   "source": [
    "def dot(a, b):\n",
    "    return sum([x*y for x,y in zip(a,b)])\n",
    "\n",
    "\n",
    "\n",
    "# Tests\n",
    "assert dot(va, vb) == 14"
   ]
  },
  {
   "cell_type": "code",
   "execution_count": 5,
   "metadata": {},
   "outputs": [
    {
     "name": "stdout",
     "output_type": "stream",
     "text": [
      "A: [[1 2 3]\n",
      " [3 4 9]\n",
      " [5 7 3]]\n",
      "dimensions:  (3, 3)\n",
      "single element [1 2 3]\n",
      "vector of elements [2 4]\n",
      "matrix of elements\n",
      " [[1 2]\n",
      " [3 4]\n",
      " [5 7]]\n"
     ]
    }
   ],
   "source": [
    "print('A:', A)\n",
    "\n",
    "print('dimensions: ', A.shape)\n",
    "\n",
    "single = A[0]\n",
    "print('single element', single)\n",
    "\n",
    "vector = A[:2, 1] # 0's can be ommitted.\n",
    "print('vector of elements', vector)\n",
    "\n",
    "matrix = A[:, :2]\n",
    "print('matrix of elements\\n', matrix)"
   ]
  },
  {
   "cell_type": "code",
   "execution_count": 6,
   "metadata": {},
   "outputs": [
    {
     "name": "stdout",
     "output_type": "stream",
     "text": [
      "upper right\n",
      " [[2 3]\n",
      " [4 9]]\n",
      "row [3 4 9]\n",
      "column [1 3 5]\n"
     ]
    }
   ],
   "source": [
    "ur = A[:2,1:3]\n",
    "row = A[1]\n",
    "col = A[:,0]\n",
    "\n",
    "print('upper right\\n', ur)\n",
    "print('row', row)\n",
    "print('column', col)\n",
    "\n",
    "# Tests\n",
    "assert np.all(ur == np.array([[2, 3], [4, 9]]))\n",
    "assert np.all(row == np.array([3, 4, 9]))\n",
    "assert np.all(col == np.array([1, 3, 5]))"
   ]
  },
  {
   "cell_type": "code",
   "execution_count": 7,
   "metadata": {},
   "outputs": [
    {
     "name": "stderr",
     "output_type": "stream",
     "text": [
      "C:\\Users\\patr7\\AppData\\Local\\Temp\\ipykernel_6308\\417752075.py:2: RuntimeWarning: overflow encountered in scalar add\n",
      "  return sum([x*y for x,y in zip(a,b)])\n"
     ]
    },
    {
     "name": "stdout",
     "output_type": "stream",
     "text": [
      "270 ms ± 10.9 ms per loop (mean ± std. dev. of 7 runs, 1 loop each)\n"
     ]
    }
   ],
   "source": [
    "%timeit dot(ta, tb)\n"
   ]
  },
  {
   "cell_type": "code",
   "execution_count": 8,
   "metadata": {},
   "outputs": [
    {
     "name": "stdout",
     "output_type": "stream",
     "text": [
      "656 μs ± 19 μs per loop (mean ± std. dev. of 7 runs, 1,000 loops each)\n"
     ]
    }
   ],
   "source": [
    "%timeit np.dot(ta, tb)\n"
   ]
  },
  {
   "cell_type": "code",
   "execution_count": 9,
   "metadata": {},
   "outputs": [
    {
     "name": "stdout",
     "output_type": "stream",
     "text": [
      "91.6 ms ± 2.18 ms per loop (mean ± std. dev. of 7 runs, 10 loops each)\n",
      "361 μs ± 25.7 μs per loop (mean ± std. dev. of 7 runs, 1,000 loops each)\n"
     ]
    }
   ],
   "source": [
    "%timeit sum(ta)\n",
    "%timeit np.sum(ta)"
   ]
  },
  {
   "cell_type": "code",
   "execution_count": 10,
   "metadata": {},
   "outputs": [
    {
     "data": {
      "text/plain": [
       "7.3484692283495345"
      ]
     },
     "execution_count": 10,
     "metadata": {},
     "output_type": "execute_result"
    }
   ],
   "source": [
    "def length_np(v):\n",
    "    return np.sqrt(np.sum(v**2))\n",
    "\n",
    "vec = np.array([2, 3, 4, 5])\n",
    "length_np(vec)"
   ]
  },
  {
   "cell_type": "code",
   "execution_count": 11,
   "metadata": {},
   "outputs": [
    {
     "name": "stdout",
     "output_type": "stream",
     "text": [
      "18.1 μs ± 311 ns per loop (mean ± std. dev. of 7 runs, 100,000 loops each)\n",
      "2.03 ms ± 26 μs per loop (mean ± std. dev. of 7 runs, 100 loops each)\n",
      "1.96 ms ± 33.8 μs per loop (mean ± std. dev. of 7 runs, 1,000 loops each)\n"
     ]
    }
   ],
   "source": [
    "vr = np.random.randint(100, size=10000)\n",
    "\n",
    "%timeit length_np(vr)\n",
    "%timeit length(vr)\n",
    "%timeit length2(vr)"
   ]
  },
  {
   "cell_type": "code",
   "execution_count": 12,
   "metadata": {},
   "outputs": [
    {
     "name": "stdout",
     "output_type": "stream",
     "text": [
      "1.1426035712129559\n"
     ]
    }
   ],
   "source": [
    "def angle(a, b):\n",
    "    # Compute the dot product\n",
    "    dot_product = np.dot(a, b)\n",
    "\n",
    "    # Compute the magnitudes (norms) of the vectors\n",
    "    norm_u = np.linalg.norm(a)\n",
    "    norm_v = np.linalg.norm(b)\n",
    "\n",
    "    # Compute the cosine of the angle\n",
    "    cos_theta = dot_product / (norm_u * norm_v)\n",
    "\n",
    "    # Compute the angle in radians\n",
    "    theta = np.arccos(cos_theta)\n",
    "\n",
    "    return theta\n",
    "\n",
    "a = np.array([2, 3, 4])\n",
    "b = np.array([0, -1, 2])\n",
    "print(angle(a, b)) # The result should be: 1.1426035712129559\n",
    "assert angle(a, b) == 1.1426035712129559"
   ]
  },
  {
   "cell_type": "code",
   "execution_count": 13,
   "metadata": {},
   "outputs": [
    {
     "data": {
      "text/plain": [
       "19.30600052603572"
      ]
     },
     "execution_count": 13,
     "metadata": {},
     "output_type": "execute_result"
    }
   ],
   "source": [
    "def dist(a,b):\n",
    "    return np.linalg.norm(a-b)\n",
    "\n",
    "sum = 0\n",
    "for i in range(1,10):        \n",
    "    a = np.zeros(i)\n",
    "    b = np.ones(i)\n",
    "    sum += dist(a,b)\n",
    "    \n",
    "sum"
   ]
  },
  {
   "cell_type": "code",
   "execution_count": 14,
   "metadata": {},
   "outputs": [
    {
     "data": {
      "image/png": "[encoded data removed]",
      "text/plain": [
       "<Figure size 1000x600 with 1 Axes>"
      ]
     },
     "metadata": {},
     "output_type": "display_data"
    }
   ],
   "source": [
    "import numpy as np\n",
    "import matplotlib.pyplot as plt\n",
    "\n",
    "def dist(u, v):\n",
    "    \"\"\"\n",
    "    Compute the Euclidean distance between two vectors.\n",
    "    \"\"\"\n",
    "    u = np.asarray(u)\n",
    "    v = np.asarray(v)\n",
    "    return np.linalg.norm(u - v)\n",
    "\n",
    "# Initialize lists to store dimensions and distances\n",
    "dimensions = []\n",
    "distances = []\n",
    "\n",
    "# Loop through dimensions from 1 to 10\n",
    "for n in range(1, 11):\n",
    "    # Create n-dimensional vectors using np.zeros and np.ones\n",
    "    u = np.ones(n)\n",
    "    v = np.zeros(n)\n",
    "    \n",
    "    # Calculate the distance between the vectors\n",
    "    distance = dist(u, v)\n",
    "    \n",
    "    # Store dimension and corresponding distance\n",
    "    dimensions.append(n)\n",
    "    distances.append(distance)\n",
    "\n",
    "# Plotting the distances as a function of dimensions\n",
    "plt.figure(figsize=(10, 6))\n",
    "plt.plot(dimensions, distances, marker='o', linestyle='-', color='b')\n",
    "plt.xlabel('Number of Dimensions (n)')\n",
    "plt.ylabel('Euclidean Distance')\n",
    "plt.title('Euclidean Distance Between np.ones and np.zeros Vectors')\n",
    "plt.grid(True)\n",
    "plt.show()\n"
   ]
  }
 ],
 "metadata": {
  "kernelspec": {
   "display_name": "Python 3",
   "language": "python",
   "name": "python3"
  },
  "language_info": {
   "codemirror_mode": {
    "name": "ipython",
    "version": 3
   },
   "file_extension": ".py",
   "mimetype": "text/x-python",
   "name": "python",
   "nbconvert_exporter": "python",
   "pygments_lexer": "ipython3",
   "version": "3.12.3"
  }
 },
 "nbformat": 4,
 "nbformat_minor": 2
}
