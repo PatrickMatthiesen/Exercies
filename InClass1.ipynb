{
 "cells": [
  {
   "cell_type": "markdown",
   "metadata": {},
   "source": [
    "# Distances and inner products"
   ]
  },
  {
   "cell_type": "code",
   "execution_count": 25,
   "metadata": {},
   "outputs": [],
   "source": [
    "import iml\n",
    "import numpy as np"
   ]
  },
  {
   "cell_type": "code",
   "execution_count": 26,
   "metadata": {},
   "outputs": [],
   "source": [
    "a=[180,70,10,0,4]\n",
    "b=[165,55,8,1,7]\n",
    "c=[175,60,9,0,3]"
   ]
  },
  {
   "cell_type": "code",
   "execution_count": 27,
   "metadata": {},
   "outputs": [
    {
     "data": {
      "text/plain": [
       "21.540659228538015"
      ]
     },
     "execution_count": 27,
     "metadata": {},
     "output_type": "execute_result"
    }
   ],
   "source": [
    "# Question #100290 \n",
    "iml.dist(a,b)"
   ]
  },
  {
   "cell_type": "code",
   "execution_count": 28,
   "metadata": {},
   "outputs": [
    {
     "data": {
      "text/plain": [
       "21.540659228538015"
      ]
     },
     "execution_count": 28,
     "metadata": {},
     "output_type": "execute_result"
    }
   ],
   "source": [
    "# Question #100291\n",
    "sub = np.subtract(a,b)\n",
    "np.sqrt(np.dot(sub,sub))"
   ]
  },
  {
   "cell_type": "code",
   "execution_count": 29,
   "metadata": {},
   "outputs": [
    {
     "name": "stdout",
     "output_type": "stream",
     "text": [
      "ab: 21.540659228538015\n",
      "ac: 11.269427669584644\n",
      "bc: 11.958260743101398\n"
     ]
    }
   ],
   "source": [
    "# Question #100294\n",
    "print('ab:', iml.dist(a,b))\n",
    "print('ac:', iml.dist(a,c))\n",
    "print('bc:', iml.dist(b,c))"
   ]
  },
  {
   "cell_type": "code",
   "execution_count": 30,
   "metadata": {},
   "outputs": [
    {
     "name": "stdout",
     "output_type": "stream",
     "text": [
      "ab: 3.0604851304551146\n",
      "ac: 2.3435406477490397\n",
      "bc: 1.5030064822484155\n"
     ]
    }
   ],
   "source": [
    "# 1 rad = 180°/π = 57.295779513°\n",
    "\n",
    "print('ab:', np.degrees(iml.angleRad(a,b)))\n",
    "print('ac:', np.degrees(iml.angleRad(a,c)))\n",
    "print('bc:', np.degrees(iml.angleRad(b,c)))"
   ]
  },
  {
   "cell_type": "markdown",
   "metadata": {},
   "source": [
    "# Evaluating Models"
   ]
  },
  {
   "cell_type": "markdown",
   "metadata": {},
   "source": [
    "f(x)=3x^2 −2x+1\n",
    "\n",
    "g(x)=2x^2 +4x+3"
   ]
  },
  {
   "cell_type": "code",
   "execution_count": 31,
   "metadata": {},
   "outputs": [],
   "source": [
    "data=((2,5),(3,7),(4,9))\n",
    "\n",
    "def f(x):\n",
    "    return 3*(x**2)-2*x+1\n",
    "    \n",
    "def g(x):\n",
    "    return 2*(x**2)+(4*x)+3"
   ]
  },
  {
   "cell_type": "code",
   "execution_count": 32,
   "metadata": {},
   "outputs": [],
   "source": [
    "def leastSquaresError(d, fun):\n",
    "    return (1/len(d)) * sum([(y-fun(x))**2 for x,y in d])"
   ]
  },
  {
   "cell_type": "code",
   "execution_count": 33,
   "metadata": {},
   "outputs": [
    {
     "data": {
      "text/plain": [
       "421.66666666666663"
      ]
     },
     "execution_count": 33,
     "metadata": {},
     "output_type": "execute_result"
    }
   ],
   "source": [
    "leastSquaresError(data,f)"
   ]
  },
  {
   "cell_type": "code",
   "execution_count": 34,
   "metadata": {},
   "outputs": [
    {
     "data": {
      "text/plain": [
       "878.6666666666666"
      ]
     },
     "execution_count": 34,
     "metadata": {},
     "output_type": "execute_result"
    }
   ],
   "source": [
    "leastSquaresError(data,g)"
   ]
  },
  {
   "cell_type": "code",
   "execution_count": 8,
   "metadata": {},
   "outputs": [
    {
     "name": "stdout",
     "output_type": "stream",
     "text": [
      "forritun\n"
     ]
    }
   ],
   "source": [
    "word = input()\n",
    "out = []\n",
    "\n",
    "for c in word:\n",
    "    if c == '<' and len(out) > 0:\n",
    "        out.pop()\n",
    "        continue\n",
    "    out.append(c)\n",
    "print(''.join(out))"
   ]
  },
  {
   "cell_type": "code",
   "execution_count": 1,
   "metadata": {},
   "outputs": [
    {
     "ename": "TypeError",
     "evalue": "'str' object cannot be interpreted as an integer",
     "output_type": "error",
     "traceback": [
      "\u001b[1;31m---------------------------------------------------------------------------\u001b[0m",
      "\u001b[1;31mTypeError\u001b[0m                                 Traceback (most recent call last)",
      "Cell \u001b[1;32mIn[1], line 3\u001b[0m\n\u001b[0;32m      1\u001b[0m iterations \u001b[38;5;241m=\u001b[39m \u001b[38;5;28minput\u001b[39m()\n\u001b[1;32m----> 3\u001b[0m \u001b[38;5;28;01mfor\u001b[39;00m i \u001b[38;5;129;01min\u001b[39;00m \u001b[38;5;28;43mrange\u001b[39;49m\u001b[43m(\u001b[49m\u001b[43miterations\u001b[49m\u001b[43m)\u001b[49m:\n\u001b[0;32m      4\u001b[0m     cities \u001b[38;5;241m=\u001b[39m \u001b[38;5;28minput\u001b[39m()\n\u001b[0;32m      5\u001b[0m     count \u001b[38;5;241m=\u001b[39m \u001b[38;5;28mset\u001b[39m\n",
      "\u001b[1;31mTypeError\u001b[0m: 'str' object cannot be interpreted as an integer"
     ]
    }
   ],
   "source": [
    "iterations = input()\n",
    "\n",
    "for i in range(iterations):\n",
    "    cities = input()\n",
    "    count = set\n",
    "    for j in range(cities):\n",
    "        count.add(input())\n",
    "    print(len(count))"
   ]
  }
 ],
 "metadata": {
  "kernelspec": {
   "display_name": "Python 3",
   "language": "python",
   "name": "python3"
  },
  "language_info": {
   "codemirror_mode": {
    "name": "ipython",
    "version": 3
   },
   "file_extension": ".py",
   "mimetype": "text/x-python",
   "name": "python",
   "nbconvert_exporter": "python",
   "pygments_lexer": "ipython3",
   "version": "3.12.3"
  }
 },
 "nbformat": 4,
 "nbformat_minor": 2
}
